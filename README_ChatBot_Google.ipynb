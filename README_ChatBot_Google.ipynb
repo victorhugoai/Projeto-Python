{
  "nbformat": 4,
  "nbformat_minor": 0,
  "metadata": {
    "colab": {
      "provenance": [],
      "authorship_tag": "ABX9TyPZoL6udOKwMuUGX3iBOZdm",
      "include_colab_link": true
    },
    "kernelspec": {
      "name": "python3",
      "display_name": "Python 3"
    },
    "language_info": {
      "name": "python"
    }
  },
  "cells": [
    {
      "cell_type": "markdown",
      "metadata": {
        "id": "view-in-github",
        "colab_type": "text"
      },
      "source": [
        "<a href=\"https://colab.research.google.com/github/victorhugoai/Projeto-Python/blob/master/README_ChatBot_Google.ipynb\" target=\"_parent\"><img src=\"https://colab.research.google.com/assets/colab-badge.svg\" alt=\"Open In Colab\"/></a>"
      ]
    },
    {
      "cell_type": "code",
      "execution_count": null,
      "metadata": {
        "id": "zurojdLxCwEI"
      },
      "outputs": [],
      "source": [
        "# ChatBot com Google Generative AI\n",
        "\n",
        "Este projeto é um chatbot simples, desenvolvido no Google Colab, que utiliza o modelo de linguagem `gemini-2.5-flash` da Google Generative AI.\n",
        "O projeto demonstra a criação de um chatbot com histórico de conversa e \"system instruction\".\n",
        "\n",
        "## Funcionalidades\n",
        "\n",
        "- **Configuração de API:** Carrega a chave de API do ambiente para segurança.\n",
        "- **Interação Conversacional:** Mantém o histórico da conversa.\n",
        "- **Instrução de Sistema:** Define uma \"persona\" para o chatbot, que o faz responder de forma sucinta.\n",
        "\n",
        "## Pré-requisitos\n",
        "\n",
        "Para rodar este projeto, você precisará de:\n",
        "\n",
        "- Uma conta Google e acesso ao Google Colab.\n",
        "- Uma **chave de API** para o Google Generative AI.\n",
        "\n",
        "## Como Executar o Projeto\n",
        "\n",
        "1.  **Clonar o Repositório:**\n",
        "    ```bash\n",
        "    git clone [https://github.com/victorhugoai/seu-repositorio.git](https://github.com/victorhugoai/seu-repositorio.git)\n",
        "    ```\n",
        "2.  **Abrir no Google Colab:**\n",
        "    Abra o arquivo `ChatBot_Google.ipynb` no Google Colab.\n",
        "\n",
        "3.  **Configurar a Chave de API:**\n",
        "    - No Colab, clique no ícone de \"Chave\" (Secrets) na barra lateral esquerda.\n",
        "    - Crie um novo \"segredo\" chamado `GOOGLE_API_KEY` e cole sua chave de API nele.\n",
        "\n",
        "4.  **Executar o Notebook:**\n",
        "    Execute todas as células do notebook em sequência (`Ctrl + F9` ou **\"Ambiente de execução\"** > **\"Executar tudo\"**).\n",
        "\n",
        "## Tecnologias Utilizadas\n",
        "\n",
        "- **Google Colab**\n",
        "- **Google Generative AI SDK (`google-genai`)**\n",
        "- **Python**\n",
        "\n",
        "## Sobre o Autor\n",
        "\n",
        "[Autor: Victor Hugo/GitHub: victorhugoai]"
      ]
    }
  ]
}