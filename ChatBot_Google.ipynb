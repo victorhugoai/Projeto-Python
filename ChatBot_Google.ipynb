{
  "nbformat": 4,
  "nbformat_minor": 0,
  "metadata": {
    "colab": {
      "provenance": [],
      "authorship_tag": "ABX9TyNeOxwAKscq0w0pM5lJfCMn",
      "include_colab_link": true
    },
    "kernelspec": {
      "name": "python3",
      "display_name": "Python 3"
    },
    "language_info": {
      "name": "python"
    }
  },
  "cells": [
    {
      "cell_type": "markdown",
      "metadata": {
        "id": "view-in-github",
        "colab_type": "text"
      },
      "source": [
        "<a href=\"https://colab.research.google.com/github/victorhugoai/Projeto-Python/blob/master/ChatBot_Google.ipynb\" target=\"_parent\"><img src=\"https://colab.research.google.com/assets/colab-badge.svg\" alt=\"Open In Colab\"/></a>"
      ]
    },
    {
      "cell_type": "code",
      "execution_count": null,
      "metadata": {
        "id": "vTBwKc0yoWn9"
      },
      "outputs": [],
      "source": [
        "# Instalando a SDK da Google\n",
        "\n",
        "!pip install -q google-genai"
      ]
    },
    {
      "cell_type": "code",
      "source": [
        "# Importando a API Key e criando a variavel de ambiente\n",
        "\n",
        "import os\n",
        "from google.colab import userdata\n",
        "\n",
        "os.environ['GOOGLE_API_KEY'] = userdata.get('GOOGLE_API_KEY')"
      ],
      "metadata": {
        "id": "en6_aKaxpTBf"
      },
      "execution_count": null,
      "outputs": []
    },
    {
      "cell_type": "code",
      "source": [
        "# Importando a SDK e criando o Cliente da SDK\n",
        "\n",
        "from google import genai\n",
        "client = genai.Client()"
      ],
      "metadata": {
        "id": "2jp5lDEtq28Q"
      },
      "execution_count": null,
      "outputs": []
    },
    {
      "cell_type": "code",
      "source": [
        "# Verificando os modelos da Google disponíveis para uso\n",
        "\n",
        "for model in client.models.list():\n",
        "  print(model.name)"
      ],
      "metadata": {
        "id": "oE4wxasEncTO"
      },
      "execution_count": null,
      "outputs": []
    },
    {
      "cell_type": "code",
      "source": [
        "# Criando a variável do modelo e a resposta do mesmo\n",
        "\n",
        "chatbot_model = 'gemini-2.5-flash'\n",
        "\n",
        "response = client.models.generate_content(model=chatbot_model, contents='''Responda de forma clara e sucinta.\n",
        "É possivel eu me tornar um AI Engineer partindo do zero aos 15 anos? Ou a maioria começa mais cedo?''')\n",
        "\n",
        "response.text"
      ],
      "metadata": {
        "id": "Kla_CFS6oMJ6"
      },
      "execution_count": null,
      "outputs": []
    },
    {
      "cell_type": "code",
      "source": [
        "# Criando o chat\n",
        "\n",
        "chat = client.chats.create(model=chatbot_model)\n",
        "\n",
        "response = chat.send_message('Olá, tudo bem com você?')\n",
        "\n",
        "response.text"
      ],
      "metadata": {
        "id": "WnY0J16HpEKk"
      },
      "execution_count": null,
      "outputs": []
    },
    {
      "cell_type": "code",
      "source": [
        "# Dando uma instrução prévia, uma persona à IA\n",
        "\n",
        "response = chat.send_message('Você é um assistente pessoal e você sempre responde de forma sucinta. Oque é IA?')\n",
        "\n",
        "response.text"
      ],
      "metadata": {
        "id": "wmdG05Wn2vij"
      },
      "execution_count": null,
      "outputs": []
    },
    {
      "cell_type": "code",
      "source": [
        "# Criando uma System instruction\n",
        "\n",
        "from google.genai import types\n",
        "\n",
        "chat_config = types.GenerateContentConfig(\n",
        "    system_instruction= 'Você é um assistente pessoal e você sempre responde de forma sucinta.'\n",
        ")\n",
        "\n",
        "chat = client.chats.create(model=chatbot_model, config=chat_config)\n",
        "\n",
        "response = chat.send_message('Oque é computação quantica?')\n",
        "\n",
        "response.text"
      ],
      "metadata": {
        "id": "rkaUeKJ93h5f"
      },
      "execution_count": null,
      "outputs": []
    },
    {
      "cell_type": "code",
      "source": [
        "# Obtendo o histórico das conversas com a IA\n",
        "\n",
        "chat.get_history()"
      ],
      "metadata": {
        "id": "CAEYCphM6p3u"
      },
      "execution_count": null,
      "outputs": []
    },
    {
      "cell_type": "code",
      "source": [
        "# Criando o prompt do chatbot e loop para o bate-papo com o modelo\n",
        "\n",
        "prompt = input('Peça ao Victor AI: ')\n",
        "\n",
        "while prompt not in ['fim', 'sair', 'encerrar', 'Fim', 'Sair', 'Encerrar']:\n",
        "  response = chat.send_message(prompt)\n",
        "  print('Resposta: ', response.text, '\\n\\n')\n",
        "  prompt = input('Peça ao Victor AI: ')\n",
        "\n",
        "print('Fim do bate-papo. Caso precisar estarei aqui para ajudar😊')"
      ],
      "metadata": {
        "id": "jwxkk1WL7XsT"
      },
      "execution_count": null,
      "outputs": []
    },
    {
      "cell_type": "code",
      "source": [
        "# Histórico final com o modelo\n",
        "\n",
        "chat.get_history()"
      ],
      "metadata": {
        "id": "EtWnIW_n_n8-"
      },
      "execution_count": null,
      "outputs": []
    }
  ]
}